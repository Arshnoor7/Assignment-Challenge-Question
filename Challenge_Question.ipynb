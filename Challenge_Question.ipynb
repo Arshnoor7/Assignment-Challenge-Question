{
  "nbformat": 4,
  "nbformat_minor": 0,
  "metadata": {
    "colab": {
      "provenance": [],
      "authorship_tag": "ABX9TyP6/GW43mwWJjPBpfo5IWuP",
      "include_colab_link": true
    },
    "kernelspec": {
      "name": "python3",
      "display_name": "Python 3"
    },
    "language_info": {
      "name": "python"
    }
  },
  "cells": [
    {
      "cell_type": "markdown",
      "metadata": {
        "id": "view-in-github",
        "colab_type": "text"
      },
      "source": [
        "<a href=\"https://colab.research.google.com/github/Arshnoor7/Challenge-Question/blob/main/Challenge_Question.ipynb\" target=\"_parent\"><img src=\"https://colab.research.google.com/assets/colab-badge.svg\" alt=\"Open In Colab\"/></a>"
      ]
    },
    {
      "cell_type": "markdown",
      "source": [
        "# **Challenge Question**\n",
        "\n",
        "---\n",
        "\n",
        "-----------------------------------------------------------------------------------------------------------------------------\n",
        "1. Write a python program to sort the list of heterogeneous data.\n",
        "e.g.\n",
        "\n",
        "L = [\"Ram\", 1, \"Shyam\", 2, \"Aman\", 3]\n",
        "\n",
        "print(L)\n",
        "\n",
        "L.sort()\n",
        "\n",
        "print(L)\n",
        "\n",
        " Above code gives error. Correct it."
      ],
      "metadata": {
        "id": "pxIRq-XE8rE6"
      }
    },
    {
      "cell_type": "code",
      "source": [
        "L= [\"Ram\", 1, \"Shyam\", 2, \"Aman\", 3]\n",
        "print(\"Before Sorting -> \" , L)\n",
        "\n",
        "L_int=[]\n",
        "for i in L:\n",
        "  if type(i)== int:\n",
        "    L_int.append(i)\n",
        "L_int.sort()\n",
        "L_str=[]\n",
        "for i in L:\n",
        "  if type(i)== str:\n",
        "    L_str.append(i)\n",
        "L_str.sort()\n",
        "\n",
        "L=L_int + L_str\n",
        "print(\"After Sorting  ->\" ,L)"
      ],
      "metadata": {
        "colab": {
          "base_uri": "https://localhost:8080/"
        },
        "id": "pNP6C4dD8_t-",
        "outputId": "ead772ce-c3f1-450e-8538-0f8f8481f789"
      },
      "execution_count": 5,
      "outputs": [
        {
          "output_type": "stream",
          "name": "stdout",
          "text": [
            "Before Sorting ->  ['Ram', 1, 'Shyam', 2, 'Aman', 3]\n",
            "After Sorting  -> [1, 2, 3, 'Aman', 'Ram', 'Shyam']\n"
          ]
        }
      ]
    }
  ]
}